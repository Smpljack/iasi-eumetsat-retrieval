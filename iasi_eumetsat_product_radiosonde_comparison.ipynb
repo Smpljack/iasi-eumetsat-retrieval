{
 "cells": [
  {
   "cell_type": "code",
   "execution_count": 1,
   "metadata": {
    "ExecuteTime": {
     "end_time": "2020-03-02T13:15:33.833343Z",
     "start_time": "2020-03-02T13:15:31.429982Z"
    }
   },
   "outputs": [],
   "source": [
    "import xarray as xr\n",
    "import matplotlib.pyplot as plt\n",
    "import cartopy.crs as ccrs\n",
    "import numpy as np\n",
    "from mpl_toolkits.axes_grid1 import make_axes_locatable\n",
    "from datetime import timedelta, datetime\n",
    "%matplotlib inline\n",
    "import warnings\n",
    "warnings.filterwarnings('ignore')\n",
    "import cartopy as ctp\n",
    "\n",
    "from typhon.plots import worldmap, styles, get_cfeatures_at_scale, profile_p\n",
    "from typhon.files import FileSet\n",
    "from typhon.collocations import Collocator, expand\n",
    "from typhon.physics import vmr2relative_humidity, mixing_ratio2vmr, relative_humidity2vmr\n",
    "\n",
    "import IasiEumetsatRetrieval as ier\n",
    "plt.style.use(styles.get('typhon'))"
   ]
  },
  {
   "cell_type": "code",
   "execution_count": 2,
   "metadata": {
    "ExecuteTime": {
     "end_time": "2020-03-02T13:15:41.923832Z",
     "start_time": "2020-03-02T13:15:33.836387Z"
    },
    "scrolled": true
   },
   "outputs": [],
   "source": [
    "iasi_fs = FileSet(path=\"/scratch/uni/u237/user_data/mprange/iasi_eumetsat_retrieval_data/1378562-2of3/\"\n",
    "                  \"*\"\n",
    "                  \"{year}{month}{day}{hour}{minute}{second}_*_eps_o_l2.nc\")\n",
    "data_list = iasi_fs.collect(\"2020-02-01\", \"2020-02-02\")"
   ]
  },
  {
   "cell_type": "code",
   "execution_count": 3,
   "metadata": {
    "ExecuteTime": {
     "end_time": "2020-03-02T13:15:41.969874Z",
     "start_time": "2020-03-02T13:15:41.927275Z"
    },
    "scrolled": true
   },
   "outputs": [],
   "source": [
    "rs_data = xr.open_dataset('/scratch/uni/u237/user_data/mprange/Auswahl_ClearSkySondes/'\n",
    "                'BCO_SoundingAscentProfile_DeeblesPointBarbadosWestIndies_20200201_1048.nc')"
   ]
  },
  {
   "cell_type": "code",
   "execution_count": null,
   "metadata": {
    "ExecuteTime": {
     "end_time": "2020-03-02T13:15:42.515958Z",
     "start_time": "2020-03-02T13:15:41.971577Z"
    },
    "scrolled": true
   },
   "outputs": [],
   "source": [
    "collocations = ier.collocate_iasi_with_location(\n",
    "    data_list[0], np.array([13.15]), np.array([-59.42]), 300.,\n",
    "    profiles_available=False)\n",
    "collocations"
   ]
  },
  {
   "cell_type": "code",
   "execution_count": null,
   "metadata": {
    "ExecuteTime": {
     "end_time": "2020-03-02T13:15:54.785129Z",
     "start_time": "2020-03-02T13:15:53.655056Z"
    },
    "scrolled": false
   },
   "outputs": [],
   "source": [
    "fig, axs = ier.plot_collocated_iasi_profiles(collocations, alpha=0.8)\n",
    "ier.plot_radiosonde_profiles(rs_data, fig=fig, axs=axs)\n",
    "# plt.savefig('plots/bco_radiosonde_iasi+retrieval_first_comparison.pdf')"
   ]
  },
  {
   "cell_type": "code",
   "execution_count": null,
   "metadata": {
    "ExecuteTime": {
     "end_time": "2020-03-02T13:17:14.453234Z",
     "start_time": "2020-03-02T13:17:11.424801Z"
    }
   },
   "outputs": [],
   "source": [
    "ier.plot_temp_map([data_list[0]], 1000.)\n",
    "worldmap(collocations['iasi/lat'], collocations['iasi/lon'], \n",
    "         marker='x', color='red', s=100)\n",
    "worldmap(collocations['eurec4a_locations/lat'], collocations['eurec4a_locations/lon'], \n",
    "         marker='x', color='green', s=100)\n",
    "# plt.savefig('plots/temp_map_2020_02_01.pdf')\n",
    "ier.plot_wv_map(data_list, 1000.)\n",
    "# worldmap(collocations['dropsondes/lat'], collocations['dropsondes/lon'], \n",
    "#          marker='x', color='green', s=10)\n",
    "# plt.savefig('plots/rh_map_2020_02_01.pdf')"
   ]
  }
 ],
 "metadata": {
  "kernelspec": {
   "display_name": "Python 3",
   "language": "python",
   "name": "python3"
  },
  "language_info": {
   "codemirror_mode": {
    "name": "ipython",
    "version": 3
   },
   "file_extension": ".py",
   "mimetype": "text/x-python",
   "name": "python",
   "nbconvert_exporter": "python",
   "pygments_lexer": "ipython3",
   "version": "3.7.6"
  },
  "toc": {
   "base_numbering": 1,
   "nav_menu": {},
   "number_sections": true,
   "sideBar": true,
   "skip_h1_title": false,
   "title_cell": "Table of Contents",
   "title_sidebar": "Contents",
   "toc_cell": false,
   "toc_position": {},
   "toc_section_display": true,
   "toc_window_display": false
  }
 },
 "nbformat": 4,
 "nbformat_minor": 2
}
