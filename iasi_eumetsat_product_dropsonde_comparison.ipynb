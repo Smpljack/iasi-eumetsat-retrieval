{
 "cells": [
  {
   "cell_type": "code",
   "execution_count": 1,
   "metadata": {
    "ExecuteTime": {
     "end_time": "2020-03-02T13:18:22.565869Z",
     "start_time": "2020-03-02T13:18:19.918504Z"
    }
   },
   "outputs": [],
   "source": [
    "import xarray as xr\n",
    "import matplotlib.pyplot as plt\n",
    "import cartopy.crs as ccrs\n",
    "import numpy as np\n",
    "from mpl_toolkits.axes_grid1 import make_axes_locatable\n",
    "from datetime import timedelta, datetime\n",
    "%matplotlib inline\n",
    "import warnings\n",
    "warnings.filterwarnings('ignore')\n",
    "import cartopy as ctp\n",
    "\n",
    "from typhon.plots import worldmap, styles, get_cfeatures_at_scale, profile_p\n",
    "from typhon.files import FileSet\n",
    "from typhon.collocations import Collocator, expand\n",
    "from typhon.physics import vmr2relative_humidity, mixing_ratio2vmr, relative_humidity2vmr\n",
    "\n",
    "import IasiEumetsatRetrieval as ier\n",
    "plt.style.use(styles.get('typhon'))"
   ]
  },
  {
   "cell_type": "code",
   "execution_count": 2,
   "metadata": {
    "ExecuteTime": {
     "end_time": "2020-03-02T13:18:39.632073Z",
     "start_time": "2020-03-02T13:18:22.569223Z"
    },
    "scrolled": true
   },
   "outputs": [],
   "source": [
    "iasi_fs = FileSet(path=\"/scratch/uni/u237/user_data/mprange/iasi_eumetsat_retrieval_data/1378562-2of3/\"\n",
    "                  \"*\"\n",
    "                  \"{year}{month}{day}{hour}{minute}{second}_*_eps_o_l2.nc\")\n",
    "data_list = iasi_fs.collect(\"2020-01-24\", \"2020-01-25\")"
   ]
  },
  {
   "cell_type": "code",
   "execution_count": 3,
   "metadata": {
    "ExecuteTime": {
     "end_time": "2020-03-02T13:18:39.993663Z",
     "start_time": "2020-03-02T13:18:39.635329Z"
    },
    "scrolled": true
   },
   "outputs": [],
   "source": [
    "ds_data = xr.open_dataset('/scratch/uni/u237/user_data/mprange/unified/dropsondes_20200124_v0.4.nc')"
   ]
  },
  {
   "cell_type": "code",
   "execution_count": null,
   "metadata": {
    "ExecuteTime": {
     "end_time": "2020-03-02T13:18:40.406198Z",
     "start_time": "2020-03-02T13:18:39.996581Z"
    },
    "scrolled": true
   },
   "outputs": [],
   "source": [
    "collocations = ier.collocate_iasi_with_dropsondes(data_list[1], ds_data, \n",
    "                                              collocation_radius=100., \n",
    "                                              max_interval=timedelta(minutes=10), \n",
    "                                              profiles_available=True)\n",
    "collocations"
   ]
  },
  {
   "cell_type": "code",
   "execution_count": null,
   "metadata": {
    "ExecuteTime": {
     "end_time": "2020-03-02T13:18:41.114553Z",
     "start_time": "2020-03-02T13:18:40.408063Z"
    },
    "scrolled": false
   },
   "outputs": [],
   "source": [
    "fig, axs = ier.plot_collocated_iasi_profiles(collocations, \n",
    "                                         collocation_indices=np.arange(5, 6),#len(collocations.collocation)), \n",
    "                                         alpha=1.0)\n",
    "fig, axs = ier.plot_collocated_dropsonde_profiles(collocations, \n",
    "                                              collocation_indices=np.arange(5, 6),#len(collocations.collocation)), \n",
    "                                              fig=fig, axs=axs, alpha=1.0\n",
    "                                             )"
   ]
  },
  {
   "cell_type": "code",
   "execution_count": null,
   "metadata": {
    "ExecuteTime": {
     "end_time": "2020-03-02T13:18:46.720243Z",
     "start_time": "2020-03-02T13:18:41.140857Z"
    }
   },
   "outputs": [],
   "source": [
    "ier.plot_temp_map([data_list[1]], 1000.)\n",
    "worldmap(collocations['iasi/lat'][5:6], collocations['iasi/lon'][5:6], \n",
    "         marker='x', color='red', s=100)\n",
    "worldmap(collocations['dropsondes/lat'][5:6], collocations['dropsondes/lon'][5:6], \n",
    "         marker='x', color='green', s=100)\n",
    "# plt.savefig('plots/temp_map_2020_02_01.pdf')\n",
    "ier.plot_wv_map(data_list, 1000.)\n",
    "# worldmap(collocations['dropsondes/lat'], collocations['dropsondes/lon'], \n",
    "#          marker='x', color='green', s=10)\n",
    "# plt.savefig('plots/rh_map_2020_02_01.pdf')"
   ]
  }
 ],
 "metadata": {
  "kernelspec": {
   "display_name": "Python 3",
   "language": "python",
   "name": "python3"
  },
  "language_info": {
   "codemirror_mode": {
    "name": "ipython",
    "version": 3
   },
   "file_extension": ".py",
   "mimetype": "text/x-python",
   "name": "python",
   "nbconvert_exporter": "python",
   "pygments_lexer": "ipython3",
   "version": "3.7.6"
  },
  "toc": {
   "base_numbering": 1,
   "nav_menu": {},
   "number_sections": true,
   "sideBar": true,
   "skip_h1_title": false,
   "title_cell": "Table of Contents",
   "title_sidebar": "Contents",
   "toc_cell": false,
   "toc_position": {},
   "toc_section_display": true,
   "toc_window_display": false
  }
 },
 "nbformat": 4,
 "nbformat_minor": 2
}
